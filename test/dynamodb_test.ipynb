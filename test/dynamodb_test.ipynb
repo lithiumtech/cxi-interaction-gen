{
 "cells": [
  {
   "cell_type": "code",
   "execution_count": 1,
   "metadata": {},
   "outputs": [
    {
     "data": {
      "text/plain": [
       "True"
      ]
     },
     "execution_count": 1,
     "metadata": {},
     "output_type": "execute_result"
    }
   ],
   "source": [
    "import boto3\n",
    "from dotenv import load_dotenv\n",
    "import os\n",
    "load_dotenv()"
   ]
  },
  {
   "cell_type": "code",
   "execution_count": 2,
   "metadata": {},
   "outputs": [],
   "source": [
    "client = boto3.client(\n",
    "    'dynamodb',\n",
    "    'us-west-2',\n",
    "    aws_access_key_id= os.environ.get(\"AWS_ACCESS_KEY_ID\"),\n",
    "    aws_secret_access_key=os.environ.get(\"AWS_SECRET_ACCESS_KEY\")\n",
    ")\n",
    "\n",
    "db = boto3.resource(\n",
    "    'dynamodb',\n",
    "    'us-west-2',\n",
    "    aws_access_key_id= os.environ.get(\"AWS_ACCESS_KEY_ID\"),\n",
    "    aws_secret_access_key=os.environ.get(\"AWS_SECRET_ACCESS_KEY\")\n",
    ")\n",
    "\n"
   ]
  },
  {
   "cell_type": "code",
   "execution_count": 21,
   "metadata": {},
   "outputs": [
    {
     "name": "stdout",
     "output_type": "stream",
     "text": [
      "{'Items': [{'SA': '1', 'Name': 'Edmond Chan'}], 'Count': 1, 'ScannedCount': 1, 'ResponseMetadata': {'RequestId': '1UJVVO0S8UNI40P7SUN7GSKM6JVV4KQNSO5AEMVJF66Q9ASUAAJG', 'HTTPStatusCode': 200, 'HTTPHeaders': {'server': 'Server', 'date': 'Thu, 21 Jul 2022 19:29:52 GMT', 'content-type': 'application/x-amz-json-1.0', 'content-length': '82', 'connection': 'keep-alive', 'x-amzn-requestid': '1UJVVO0S8UNI40P7SUN7GSKM6JVV4KQNSO5AEMVJF66Q9ASUAAJG', 'x-amz-crc32': '427117357'}, 'RetryAttempts': 0}}\n"
     ]
    }
   ],
   "source": [
    "from boto3.dynamodb.conditions import Key\n",
    "\n",
    "response = db.Table(\"cxi-data-gen-store\").query(\n",
    "    KeyConditionExpression=Key('SA').eq(\"1\")) \n",
    "\n",
    "print(response)"
   ]
  },
  {
   "cell_type": "code",
   "execution_count": 13,
   "metadata": {},
   "outputs": [],
   "source": [
    "response = db.Table(\"cxi-data-gen-store\").scan()"
   ]
  },
  {
   "cell_type": "code",
   "execution_count": 14,
   "metadata": {},
   "outputs": [
    {
     "name": "stdout",
     "output_type": "stream",
     "text": [
      "{'Items': [{'SA': 'Test for Edmond'}], 'Count': 1, 'ScannedCount': 1, 'ResponseMetadata': {'RequestId': 'AELO2D9192S4N98C002HT5CGIRVV4KQNSO5AEMVJF66Q9ASUAAJG', 'HTTPStatusCode': 200, 'HTTPHeaders': {'server': 'Server', 'date': 'Thu, 21 Jul 2022 19:26:51 GMT', 'content-type': 'application/x-amz-json-1.0', 'content-length': '69', 'connection': 'keep-alive', 'x-amzn-requestid': 'AELO2D9192S4N98C002HT5CGIRVV4KQNSO5AEMVJF66Q9ASUAAJG', 'x-amz-crc32': '1175269161'}, 'RetryAttempts': 0}}\n"
     ]
    }
   ],
   "source": [
    "print(response)"
   ]
  },
  {
   "cell_type": "code",
   "execution_count": 30,
   "metadata": {},
   "outputs": [
    {
     "data": {
      "text/plain": [
       "{'ResponseMetadata': {'RequestId': 'GL06MOMP8TUD11H1PLPJFRTL07VV4KQNSO5AEMVJF66Q9ASUAAJG',\n",
       "  'HTTPStatusCode': 200,\n",
       "  'HTTPHeaders': {'server': 'Server',\n",
       "   'date': 'Thu, 21 Jul 2022 19:38:45 GMT',\n",
       "   'content-type': 'application/x-amz-json-1.0',\n",
       "   'content-length': '2',\n",
       "   'connection': 'keep-alive',\n",
       "   'x-amzn-requestid': 'GL06MOMP8TUD11H1PLPJFRTL07VV4KQNSO5AEMVJF66Q9ASUAAJG',\n",
       "   'x-amz-crc32': '2745614147'},\n",
       "  'RetryAttempts': 0}}"
      ]
     },
     "execution_count": 30,
     "metadata": {},
     "output_type": "execute_result"
    }
   ],
   "source": [
    "data = \"\"\"{\n",
    "    \"name\":\"han solo\",\n",
    "    \"team\":\"the empire\"\n",
    "}\"\"\"\n",
    "client.put_item(TableName=\"cxi-data-gen-store\",Item={\"SA\":{\"S\":\"2\"},\"data\":{\"S\":data}})"
   ]
  },
  {
   "cell_type": "markdown",
   "metadata": {},
   "source": [
    "# Create tables here for now"
   ]
  },
  {
   "cell_type": "code",
   "execution_count": 9,
   "metadata": {},
   "outputs": [
    {
     "name": "stdout",
     "output_type": "stream",
     "text": [
      "An error occurred (ResourceInUseException) when calling the CreateTable operation: Table already exists: Customers\n",
      "An error occurred (ResourceInUseException) when calling the CreateTable operation: Table already exists: Agents\n"
     ]
    }
   ],
   "source": [
    "\n",
    "customer_params = {\n",
    "    \"TableName\": \"Customers\",\n",
    "    \"KeySchema\" : [\n",
    "        {\"AttributeName\":\"CustomerId\", \"KeyType\": \"HASH\"}\n",
    "    ],\n",
    "    \"AttributeDefinitions\":[\n",
    "        {\"AttributeName\":\"CustomerId\", \"AttributeType\":'S'}\n",
    "    ],\n",
    "    'ProvisionedThroughput': {\n",
    "        'ReadCapacityUnits': 10,\n",
    "        'WriteCapacityUnits': 10\n",
    "    }\n",
    "}\n",
    "\n",
    "# Agent \n",
    "\n",
    "agent_params = {\n",
    "    \"TableName\": \"Agents\",\n",
    "    \"KeySchema\" : [\n",
    "        {\"AttributeName\":\"AgentId\", \"KeyType\": \"HASH\"}\n",
    "    ],\n",
    "    \"AttributeDefinitions\":[\n",
    "        {\"AttributeName\":\"AgentId\", \"AttributeType\":'S'}\n",
    "    ],\n",
    "    'ProvisionedThroughput': {\n",
    "        'ReadCapacityUnits': 10,\n",
    "        'WriteCapacityUnits': 10\n",
    "    }\n",
    "}\n",
    "\n",
    "\n",
    "surveys = {\n",
    "    \"TableName\": \"Surveys\",\n",
    "    \"KeySchema\" : [\n",
    "        {\"AttributeName\":\"SurveyId\", \"KeyType\": \"HASH\"}\n",
    "    ],\n",
    "    \"AttributeDefinitions\":[\n",
    "        {\"AttributeName\":\"SurveyId\", \"AttributeType\":'S'}\n",
    "    ],\n",
    "    'ProvisionedThroughput': {\n",
    "        'ReadCapacityUnits': 10,\n",
    "        'WriteCapacityUnits': 10\n",
    "    }\n",
    "}\n",
    "\n",
    "product_reviews = {\n",
    "    \"TableName\": \"ProductReviews\",\n",
    "    \"KeySchema\" : [\n",
    "        {\"AttributeName\":\"ProductReviewId\", \"KeyType\": \"HASH\"}\n",
    "    ],\n",
    "    \"AttributeDefinitions\":[\n",
    "        {\"AttributeName\":\"ProductReviewId\", \"AttributeType\":'S'}\n",
    "    ],\n",
    "    'ProvisionedThroughput': {\n",
    "        'ReadCapacityUnits': 10,\n",
    "        'WriteCapacityUnits': 10\n",
    "    }\n",
    "}\n",
    "\n",
    "\n",
    "\n",
    "tables = [customer_params, agent_params,surveys,product_reviews]\n",
    "\n",
    "for t in tables: \n",
    "    try: \n",
    "        db.create_table(**t)\n",
    "    except Exception as ex: \n",
    "        print(ex)\n",
    "        continue\n",
    "    "
   ]
  },
  {
   "cell_type": "code",
   "execution_count": null,
   "metadata": {},
   "outputs": [],
   "source": []
  }
 ],
 "metadata": {
  "kernelspec": {
   "display_name": "Python 3.10.5 ('.dev': venv)",
   "language": "python",
   "name": "python3"
  },
  "language_info": {
   "codemirror_mode": {
    "name": "ipython",
    "version": 3
   },
   "file_extension": ".py",
   "mimetype": "text/x-python",
   "name": "python",
   "nbconvert_exporter": "python",
   "pygments_lexer": "ipython3",
   "version": "3.10.5"
  },
  "orig_nbformat": 4,
  "vscode": {
   "interpreter": {
    "hash": "ed0cf586b1e59d818733435ee7616ee74ffcd2e2089d21a9a6d62947d44d89e4"
   }
  }
 },
 "nbformat": 4,
 "nbformat_minor": 2
}
